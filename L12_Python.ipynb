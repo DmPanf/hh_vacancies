{
  "nbformat": 4,
  "nbformat_minor": 0,
  "metadata": {
    "colab": {
      "provenance": []
    },
    "kernelspec": {
      "name": "python3",
      "display_name": "Python 3"
    },
    "language_info": {
      "name": "python"
    }
  },
  "cells": [
    {
      "cell_type": "markdown",
      "source": [
        "## Вакансии на сайте HH"
      ],
      "metadata": {
        "id": "aUZHkF03ekjL"
      }
    },
    {
      "cell_type": "code",
      "source": [
        "!git clone https://github.com/dnp34/hh_vacancies.git"
      ],
      "metadata": {
        "colab": {
          "base_uri": "https://localhost:8080/"
        },
        "id": "ZamhGvLCfto-",
        "outputId": "0e317feb-13fa-4b6b-c862-c6e148264142"
      },
      "execution_count": 65,
      "outputs": [
        {
          "output_type": "stream",
          "name": "stdout",
          "text": [
            "Cloning into 'hh_vacancies'...\n",
            "remote: Enumerating objects: 38, done.\u001b[K\n",
            "remote: Counting objects: 100% (38/38), done.\u001b[K\n",
            "remote: Compressing objects: 100% (36/36), done.\u001b[K\n",
            "remote: Total 38 (delta 13), reused 0 (delta 0), pack-reused 0\u001b[K\n",
            "Unpacking objects: 100% (38/38), 89.67 KiB | 3.59 MiB/s, done.\n"
          ]
        }
      ]
    },
    {
      "cell_type": "code",
      "source": [
        "!cp ./hh_vacancies/* ./"
      ],
      "metadata": {
        "id": "n6EyuL7KhtJn"
      },
      "execution_count": 66,
      "outputs": []
    },
    {
      "cell_type": "code",
      "source": [
        "!pip install beautifulsoup4"
      ],
      "metadata": {
        "colab": {
          "base_uri": "https://localhost:8080/"
        },
        "id": "RhMnrt-fi_-E",
        "outputId": "9390f1d9-5f2a-480d-d531-f0ce815b86ea"
      },
      "execution_count": 12,
      "outputs": [
        {
          "output_type": "stream",
          "name": "stdout",
          "text": [
            "Looking in indexes: https://pypi.org/simple, https://us-python.pkg.dev/colab-wheels/public/simple/\n",
            "Requirement already satisfied: beautifulsoup4 in /usr/local/lib/python3.9/dist-packages (4.11.2)\n",
            "Requirement already satisfied: soupsieve>1.2 in /usr/local/lib/python3.9/dist-packages (from beautifulsoup4) (2.4)\n"
          ]
        }
      ]
    },
    {
      "cell_type": "code",
      "source": [
        "import re\n",
        "\n",
        "def get_skills(description, key_skills):\n",
        "    pp = BeautifulSoup(description, features=\"html.parser\").get_text()\n",
        "    pp_re = re.findall(r'\\s[A-Za-z-?]+', pp)\n",
        "    its = set(x.strip(' -').lower() for x in pp_re)\n",
        "    \n",
        "    skills = set()\n",
        "    for sk in key_skills:\n",
        "        skills.add(sk['name'].lower())\n",
        "        \n",
        "    for it in its:\n",
        "        if not any(it in x for x in skills):\n",
        "            skills.add(it)\n",
        "            \n",
        "    return list(skills)"
      ],
      "metadata": {
        "id": "R6L3nYpnlPbY"
      },
      "execution_count": 54,
      "outputs": []
    },
    {
      "cell_type": "code",
      "source": [
        "def get_area_id(area_id):\n",
        "    # загрузка файла с кодами городов\n",
        "    if exists('area.pkl'):\n",
        "        with open('area.pkl', mode='rb') as f:\n",
        "            area = load(f)\n",
        "    else:\n",
        "        area = {}\n",
        "    \n",
        "    if area_id in area.values():\n",
        "        return area_id\n",
        "    \n",
        "    url = f'https://api.hh.ru/areas/{area_id}'\n",
        "    res = get(url=url).json()\n",
        "    area[res['name']] = res['id']\n",
        "    \n",
        "    # сохранение файла с результами работы\n",
        "    with open('area.pkl', mode='wb') as f:\n",
        "        dump(area, f)\n",
        "    \n",
        "    return res['id']"
      ],
      "metadata": {
        "id": "lALly-6blVoR"
      },
      "execution_count": 55,
      "outputs": []
    },
    {
      "cell_type": "code",
      "execution_count": 63,
      "metadata": {
        "colab": {
          "base_uri": "https://localhost:8080/"
        },
        "id": "3HzFE95sejMD",
        "outputId": "12d6017b-7e6e-4ff5-90e1-0c11748a2660"
      },
      "outputs": [
        {
          "output_type": "stream",
          "name": "stdout",
          "text": [
            "\n",
            " ===== КОДЫ ГОРОДОВ =====\n",
            "{'Астана': '159',\n",
            " 'Владивосток': '22',\n",
            " 'Волгоград': '24',\n",
            " 'Воронеж': '26',\n",
            " 'Екатеринбург': '3',\n",
            " 'Казань': '88',\n",
            " 'Кипр': '236',\n",
            " 'Красноярск': '54',\n",
            " 'Минск': '1002',\n",
            " 'Москва': '1',\n",
            " 'Новосибирск': '4',\n",
            " 'Санкт-Петербург': '2',\n",
            " 'Сербия': '146',\n",
            " 'Томск': '90'}\n",
            "\n",
            "🌐 Перебор 5 страниц из 100 на ресурсе: https://api.hh.ru/vacancies\n",
            "👀 страница: 1\n",
            "👀 страница: 2\n",
            "👀 страница: 3\n",
            "👀 страница: 4\n",
            "👀 страница: 5\n",
            "\n",
            "✅ Результаты отбора данных по вакансии [linux] в городе Москва:\n",
            "\n",
            "{'keywords': 'linux',\n",
            " 'count': 120,\n",
            " 'city': 'Москва',\n",
            " 'city_count': 14,\n",
            " 'average_from': 308693.06,\n",
            " 'average_to': 380305.57,\n",
            " 'requirements': [{'name': 'linux', 'count': 48, 'percent': 40.0},\n",
            "                  {'name': 'python', 'count': 27, 'percent': 22.5},\n",
            "                  {'name': 'nginx', 'count': 23, 'percent': 19.17},\n",
            "                  {'name': 'bash', 'count': 23, 'percent': 19.17},\n",
            "                  {'name': 'docker', 'count': 20, 'percent': 16.67}]}\n"
          ]
        }
      ],
      "source": [
        "from pprint import pprint\n",
        "from pickle import dump, load\n",
        "from os.path import exists\n",
        "from json import dump as json_dump\n",
        "from requests import get\n",
        "from collections import Counter\n",
        "from bs4 import BeautifulSoup\n",
        "\n",
        "#from area import get_area_id\n",
        "#from skills import get_skills\n",
        "\n",
        "vacancy = 'linux'  # интересующая вакансия\n",
        "my_city = 'Москва' # город для поиска (all - для всех)\n",
        "url = 'https://api.hh.ru/vacancies'\n",
        "\n",
        "# загрузка текущих курсов валют ЦБ РФ\n",
        "data = get('https://www.cbr-xml-daily.ru/daily_json.js').json()\n",
        "rate = data['Valute']\n",
        "\n",
        "# загрузка файла с кодами городов\n",
        "if exists('area.pkl'):\n",
        "    with open('area.pkl', mode='rb') as f:\n",
        "        area = load(f)\n",
        "else:\n",
        "    area = {}\n",
        "\n",
        "print('\\n ===== КОДЫ ГОРОДОВ =====')\n",
        "pprint(area)\n",
        "\n",
        "p = {'text': vacancy}\n",
        "r = get(url=url, params=p).json()\n",
        "count_pages = r['pages']\n",
        "all_count = len(r['items'])\n",
        "\n",
        "result = {\n",
        "        'keywords': vacancy,\n",
        "        'count': all_count,\n",
        "        'city': my_city\n",
        "         }\n",
        "\n",
        "sal = {'from': [], 'to': []}\n",
        "skills_all = []\n",
        "\n",
        "# определяем, сколько будет получено страниц, и проходим по каждой из страниц\n",
        "print(f'\\n🌐 Перебор 5 страниц из {count_pages} на ресурсе: {url}')\n",
        "for page in range(count_pages):\n",
        "    if page > 4:\n",
        "        break\n",
        "    else:\n",
        "        print(f'👀 страница: {page+1}')\n",
        "    p = {'text': vacancy,\n",
        "         'page': page}\n",
        "    ress = get(url=url, params=p).json()\n",
        "    all_count = len(ress['items'])\n",
        "    result['count'] += all_count\n",
        "    \n",
        "    city_count = 0\n",
        "    for res in ress['items']:\n",
        "        city_vac = res['area']['name']\n",
        "        # добавление города из ответа на запроса, если его нет в файле\n",
        "        if city_vac not in area:\n",
        "            area[city_vac] = get_area_id(res['area']['id'])\n",
        "        \n",
        "        if my_city == 'all' or city_vac == my_city:\n",
        "            city_count += 1\n",
        "            res_full = get(res['url']).json()\n",
        "            skills = get_skills(res_full['description'], res_full['key_skills'])\n",
        "            skills_all += skills\n",
        "        \n",
        "            # обработка зарплаты\n",
        "            if res_full['salary']:\n",
        "                code = res_full['salary']['currency']\n",
        "                #print(f'[{code}]')\n",
        "                k = 1 if code == 'RUR' else float(rate[code]['Value'])\n",
        "                sal['from'].append(k * res_full['salary']['from'] if res['salary']['from'] else k * res_full['salary']['to'])\n",
        "                sal['to'].append(k * res_full['salary']['to'] if res['salary']['to'] else k*res_full['salary']['from'])\n",
        "\n",
        "# формирование результата\n",
        "result.update({\n",
        "    'city_count': city_count,\n",
        "    'average_from': round(sum(sal['from']) / len(sal['from']), 2),\n",
        "    'average_to': round(sum(sal['to']) / len(sal['to']), 2),\n",
        "    'requirements': [{'name': name, 'count': count, 'percent': round((count / result['count'])*100, 2)} \n",
        "                      for name, count in Counter(skills_all).most_common(5)]\n",
        "})\n",
        "\n",
        "print(f'\\n✅ Результаты отбора данных по вакансии [{vacancy}] в городе {my_city}:\\n')\n",
        "pprint(result, sort_dicts=False)\n",
        "\n",
        "# сохранение файла с результами работы\n",
        "with open('result.json', mode='w') as f:\n",
        "    json_dump([result], f)\n",
        "with open('area.pkl', mode='wb') as f:\n",
        "    dump(area, f)"
      ]
    },
    {
      "cell_type": "code",
      "source": [
        "!ls -al *.pkl *.json"
      ],
      "metadata": {
        "colab": {
          "base_uri": "https://localhost:8080/"
        },
        "id": "ETS24Ktw-fNv",
        "outputId": "124b0593-3af3-40e7-ea87-32b77fde5bae"
      },
      "execution_count": 64,
      "outputs": [
        {
          "output_type": "stream",
          "name": "stdout",
          "text": [
            "-rw-r--r-- 1 root root 475 Mar 30 19:22 area.pkl\n",
            "-rw-r--r-- 1 root root 422 Mar 30 19:22 result.json\n"
          ]
        }
      ]
    }
  ]
}